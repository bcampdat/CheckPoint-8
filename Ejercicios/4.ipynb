{
 "cells": [
  {
   "cell_type": "markdown",
   "metadata": {},
   "source": [
    "                                Preguntas Teoricas"
   ]
  },
  {
   "cell_type": "markdown",
   "metadata": {},
   "source": [
    "## ***4. ¿Qué es la deconstrucción de variables?***\n",
    "\n",
    "Es una expresión que te permite extraer o “destructurar” datos desde estructuras de datos como arrays, objetos, y crear nuevas variables con ese dato en particular.\n",
    "\n",
    "Te permite extraer propiedades de un objeto, items de un array de una manera “sencilla” y de una sola vez.\n",
    "\n",
    "Pensemos en una estructura de datos común y una tarea repetitiva"
   ]
  },
  {
   "attachments": {
    "image.png": {
     "image/png": "[encoded data removed]"
    }
   },
   "cell_type": "markdown",
   "metadata": {},
   "source": [
    "![image.png](attachment:image.png)"
   ]
  },
  {
   "cell_type": "markdown",
   "metadata": {},
   "source": [
    "[**Desestructuración ▶** ](https://youtu.be/vVZJWPxMuFY)"
   ]
  },
  {
   "cell_type": "markdown",
   "metadata": {},
   "source": [
    "Entonces, con la desestructuración de JavaScript podemos capturar una sola de estas propiedades en una nueva variable, fuera del objeto. Para ello, utilizamos cualquiera de las palabras clave de variables, luego encerramos la propiedad en las llaves { } y, finalmente, la igualamos al objeto del que proviene. \n",
    "\n",
    "Empecemos por las más sencillas, que son las operaciones de desestructuración de arrays. Si queremos extraer datos de arreglos, es bastante simple usando la asignación de desestructuración.\n",
    "\n",
    "#### SINTAXIS BÁSICA  ARRAYS\n",
    "\n",
    "````\n",
    "let variableName = [var1, var2, var3];\n",
    "(let [firstName, secondName] = desestructuración); \n",
    "````\n",
    "\n",
    "Extraemos el primer y segundo valor del array *variableName* en una variable denominada *firstName* y otra llamada *secondName* pero como el array tiene más elementos y sólo hemos indicado dos variables (first y second), el resto son *descartadas*."
   ]
  },
  {
   "cell_type": "code",
   "execution_count": null,
   "metadata": {
    "vscode": {
     "languageId": "javascript"
    }
   },
   "outputs": [],
   "source": [
    "let introduccion = [\"Hola\", \"yo\" , \"soy\", \"Sara\"];\n",
    "(let [saludo, pronombre] = introduccion);\n",
    "\n",
    "console.log(saludo);//\"Hola\"\n",
    "console.log(pronombre);//\"yo\""
   ]
  },
  {
   "cell_type": "markdown",
   "metadata": {},
   "source": [
    "> **Nota** Que las variables son establecidas de izquierda a derecha. De esta manera la primera variable obtiene el valor del primer elemento del array, la segunda variable obtiene el valor del segundo elemento del array, y así sucesivamente."
   ]
  },
  {
   "cell_type": "markdown",
   "metadata": {},
   "source": [
    "¿Qué pasa si queremos obtener el primer y el último elemento de nuestro array, en lugar de obtener solo el primer y el segundo elemento"
   ]
  },
  {
   "cell_type": "code",
   "execution_count": null,
   "metadata": {
    "vscode": {
     "languageId": "javascript"
    }
   },
   "outputs": [],
   "source": [
    "let [saludo,,,nombre] = [\"Hola\", \"yo\" ,\"soy\", \"Sara\"];\n",
    "\n",
    "console.log(saludo);//\"Hola\"\n",
    "console.log(nombre);//\"Sara\""
   ]
  },
  {
   "cell_type": "markdown",
   "metadata": {},
   "source": [
    "De esta manera, la coma hace su magia. Así que si queremos excluir todos los elementos, haríamos esto."
   ]
  },
  {
   "cell_type": "code",
   "execution_count": null,
   "metadata": {
    "vscode": {
     "languageId": "javascript"
    }
   },
   "outputs": [],
   "source": [
    "let [,,,,] = [\"Hola\", \"yo\" , \"soy\", \"Sara\"];"
   ]
  },
  {
   "cell_type": "markdown",
   "metadata": {},
   "source": [
    "¿Qué pasa si queremos asignar algunos valores de un array a una variable y el resto a otra?. En este caso, podríamos hacer esto:"
   ]
  },
  {
   "cell_type": "code",
   "execution_count": null,
   "metadata": {
    "vscode": {
     "languageId": "javascript"
    }
   },
   "outputs": [],
   "source": [
    "let [saludo,...introduccion] = [\"Hola\", \"yo\" , \"soy\", \"Sara\"];\n",
    "\n",
    "console.log(saludo);//\"Hola\"\n",
    "console.log(introduccion);//[\"yo\", \"soy\", \"Sara\"]"
   ]
  },
  {
   "cell_type": "markdown",
   "metadata": {},
   "source": [
    "### Intercambio de variables  \n",
    "\n",
    "Veamos otro ejemplo donde utilizamos la desestructuración. En este caso, haremos un clásico intercambio de variables, donde el valor inicial de a debe estar en b y viceversa. Sin utilizar desestructuración, debemos utilizar una variable auxiliar aux donde guardar uno de los valores temporalmente, mientras hacemos el cambio de variables:"
   ]
  },
  {
   "cell_type": "code",
   "execution_count": null,
   "metadata": {
    "vscode": {
     "languageId": "javascript"
    }
   },
   "outputs": [],
   "source": [
    "// Sin desestructuración\n",
    "\n",
    "// let a = 10;\n",
    "// let b = 5;\n",
    "\n",
    "// let aux = a;\n",
    "// a = b;\n",
    "// b = aux;\n",
    "\n",
    "// Con desestructuración\n",
    "let a = 10;\n",
    "let b = 5;\n",
    "\n",
    "[a, b] = [b, a];"
   ]
  },
  {
   "cell_type": "markdown",
   "metadata": {},
   "source": [
    "#### Reestructuración de arrays  \n",
    "Aprovechando estas características que hemos visto de desestructuración, también podríamos aprovecharlas para reestructurar un array y recrear arrays. Veámoslo con un ejemplo.\n",
    "\n",
    "*Tenemos un array de 2 elementos [3, 4] y queremos aprovecharlo para crear un nuevo array del 1 al 5. Vamos a hacer uso de la desestructuración para reaprovecharlo:*"
   ]
  },
  {
   "cell_type": "code",
   "execution_count": null,
   "metadata": {
    "vscode": {
     "languageId": "javascript"
    }
   },
   "outputs": [],
   "source": [
    "const pair = [3, 4];\n",
    "\n",
    "// Usando desestructuración + spread\n",
    "const complete = [1, 2, ...pair, 5];  // [1, 2, 3, 4, 5]\n",
    "\n",
    "// Sin usar desestructuración\n",
    "\n",
    "// const complete = [1, 2, pair, 5];     // [1, 2, [3, 4], 5]"
   ]
  },
  {
   "cell_type": "markdown",
   "metadata": {},
   "source": [
    "> *En este caso, tendríamos que complete es el nuevo array [1, 2, 3, 4, 5] que buscábamos si usamos la desestructuración, pero ten en cuenta que si no utilizaramos el ... previo al pair, conseguiríamos algo muy diferente: [1, 2, [3, 4], 5].*"
   ]
  },
  {
   "cell_type": "markdown",
   "metadata": {},
   "source": [
    "#### SINTAXIS BÁSICA  OBJETOS\n",
    "\n",
    "````\n",
    "let { var1, var2 } = { var1: …, var2… }\n",
    "````\n",
    "\n",
    "Tenemos un objeto existente en el lado derecho, que queremos dividir en variables. El lado izquierdo contiene un patrón para las propiedades correspondientes, en el caso simple eso es una lista de variables entre llaves  {...}\n",
    "\n",
    "Lo que destructuring permite, es hacer este proceso de una manera más directa"
   ]
  },
  {
   "cell_type": "code",
   "execution_count": null,
   "metadata": {
    "vscode": {
     "languageId": "javascript"
    }
   },
   "outputs": [],
   "source": [
    "let persona = {nombre: \"Beatriz\", pais: \"España\", trabajo: \"Desarrolladora\"};\n",
    "\n",
    "let nombre = persona.nombre;\n",
    "let pais = persona.pais;\n",
    "let trabajo = persona.trabajo;\n",
    "\n",
    "console.log(nombre);//\"Beatriz\"\n",
    "console.log(pais);//\"España\"\n",
    "console.log(trabajo);//Desarrolladora\""
   ]
  },
  {
   "cell_type": "markdown",
   "metadata": {},
   "source": [
    "##### Anidamiento en desestructuración de Objetos\n",
    "Objetos también pueden ser anidados al desestructurar:"
   ]
  },
  {
   "cell_type": "code",
   "execution_count": null,
   "metadata": {
    "vscode": {
     "languageId": "javascript"
    }
   },
   "outputs": [],
   "source": [
    "let persona = {\n",
    "    nombre: \"Sara\",\n",
    "    lugar: {\n",
    "        pais: \"Nigeria\", \n",
    "        ciudad: \"Lagos\" }, \n",
    "    amigas : [\"Annie\", \"Becky\"]\n",
    "};\n",
    "\n",
    "let {nombre:otroNombre,\n",
    "     lugar: {\n",
    "         pais : region,\n",
    "         ciudad : x}\n",
    "    } = persona;\n",
    "\n",
    "console.log(otroNombre);//\"Sarah\"\n",
    "console.log(region);//\"Nigeria\""
   ]
  },
  {
   "cell_type": "markdown",
   "metadata": {},
   "source": [
    "Este código toma un objeto llamado *persona* que tiene información sobre una persona llamada \"Sara\" que vive en Lagos, Nigeria, y tiene amigas llamadas \"Annie\" y \"Becky\". Luego, utiliza la \"destructuring\" para extraer y asignar valores específicos de este objeto a variables nuevas. \n",
    "\n",
    "Se extrae el nombre de la persona y lo asigna a una variable llamada *otroNombre*, el país de residencia lo asigna a una variable llamada *region*, y la ciudad de residencia lo asigna a una variable llamada x.\n",
    "\n",
    "Finalmente, al imprimir estas variables, se mostrará:\n",
    "\n",
    "+ otroNombre, que es \"Sara\"\n",
    "+ region, que es \"Nigeria\"\n",
    "\n",
    "Esta es una forma útil de extraer información específica de un objeto en JavaScript de una manera más concisa."
   ]
  },
  {
   "cell_type": "markdown",
   "metadata": {},
   "source": [
    "[resumen: ▶](https://youtu.be/UgEaJBz3bjY)"
   ]
  },
  {
   "cell_type": "markdown",
   "metadata": {},
   "source": [
    "[Saber Más: 🧠 ](https://developer.mozilla.org/es/docs/Web/JavaScript/Reference/Operators/Destructuring_assignment)"
   ]
  },
  {
   "cell_type": "markdown",
   "metadata": {},
   "source": [
    "                                                            EJERCICIOS"
   ]
  },
  {
   "cell_type": "markdown",
   "metadata": {},
   "source": [
    "* Ejercicio 1:  \n",
    "**Intercambiar los valores de las variables a y b utilizando desestructuración**\n",
    "\n",
    "* Ejercicio 2:  \n",
    "**Crea una variable para el primer elemento de un array y otra para el resto de elementos.**\n",
    "\n",
    "* Ejercicio 3:  \n",
    "**Desestructura un objeto en variables con nombres diferentes a las propiedades del objeto Tu tarea es modificar el objeto desestructurado de tal manera que al imprimir \"ruedas\" se muestre el valor de \"coche\" y al imprimir \"rail\" se muestre el valor de \"tren\".(Ford, Ave)**\n",
    "\n",
    "* Ejercicio 4:  \n",
    "**Desestructura un array y un objeto dentro de una función suma [a, b] y saludo {nombre, edad} respectivamente para usar sus elementos como argumentos.**\n",
    "\n",
    "* Ejercicio 5:  \n",
    "**Asigna valores a las variables patas, familia y mueble utilizando desestructuración de arrays. Para ello, debes seguir los siguientes pasos:**  \n",
    "    *  **Crea una variable llamada patas y una variable llamada familia.**\n",
    "    *  **Crea una variable llamada mueble y asigna el valor 'mesa' a ella.**\n",
    "    *  **Utiliza la desestructuración de arrays para asignar los valores de las variables patas y familia a partir de los valores del array [[4, 'cocina']].**\n",
    "    *  **Imprime el valor de las variables patas, familia y mueble.**\n",
    "\n",
    "* Ejercicio 6:  \n",
    "**Desestructura un objeto anidado y asigna valores hola y mundo, a las propiedades 'hello' y nombre, y a las variables 'hello' y 'nombre'.**\n"
   ]
  },
  {
   "cell_type": "markdown",
   "metadata": {},
   "source": [
    "👍 [Soluciones :](ej4.js)"
   ]
  }
 ],
 "metadata": {
  "kernelspec": {
   "display_name": "Python 3",
   "language": "python",
   "name": "python3"
  },
  "language_info": {
   "codemirror_mode": {
    "name": "ipython",
    "version": 3
   },
   "file_extension": ".py",
   "mimetype": "text/x-python",
   "name": "python",
   "nbconvert_exporter": "python",
   "pygments_lexer": "ipython3",
   "version": "3.12.2"
  }
 },
 "nbformat": 4,
 "nbformat_minor": 2
}
