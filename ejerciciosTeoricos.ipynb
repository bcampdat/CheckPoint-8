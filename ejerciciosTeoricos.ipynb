{
 "cells": [
  {
   "cell_type": "markdown",
   "metadata": {},
   "source": [
    "                                Preguntas Teoricas"
   ]
  },
  {
   "cell_type": "markdown",
   "metadata": {},
   "source": [
    "Realiza una documentación sobre lo conceptos que te proporcionare, recuerda debes ser lo más claro y comprensible posible, estas creando un material que lo visualizarán personas que recién inician en el mundo del desarrollo por lo tanto debes también sustentarlo con ejemplos, porque se utiliza, para que se utiliza, sintaxis, etc… \n"
   ]
  },
  {
   "cell_type": "markdown",
   "metadata": {},
   "source": [
    "1. ¿Qué tipo de bucles hay en JS? [▶ ](./Ejercicios/1.ipynb)"
   ]
  },
  {
   "cell_type": "markdown",
   "metadata": {},
   "source": [
    "2. ¿Cuáles son las diferencias entre const, let y var? [▶ ](./Ejercicios/2.ipynb)"
   ]
  },
  {
   "cell_type": "markdown",
   "metadata": {},
   "source": [
    "3. ¿Qué es una función de flecha? [▶ ](./Ejercicios/3.ipynb) "
   ]
  },
  {
   "cell_type": "markdown",
   "metadata": {},
   "source": [
    "4. ¿Qué es la deconstrucción de variables? [▶ ](./Ejercicios/4.ipynb)"
   ]
  },
  {
   "cell_type": "markdown",
   "metadata": {},
   "source": [
    "5. ¿Qué hace el operador de extensión en JS? [▶ ](./Ejercicios/5.ipynb) "
   ]
  },
  {
   "cell_type": "markdown",
   "metadata": {},
   "source": [
    "6. ¿Qué es la programación orientada a objetos? [▶ ](./Ejercicios/6.ipynb)"
   ]
  },
  {
   "cell_type": "markdown",
   "metadata": {},
   "source": [
    "7. ¿Qué es una promesa en JS? [▶ ](./Ejercicios/7.ipynb)"
   ]
  },
  {
   "cell_type": "markdown",
   "metadata": {},
   "source": [
    "8. ¿Qué hacen async y await por nosotros? [▶ ](./Ejercicios/7.ipynb)"
   ]
  },
  {
   "cell_type": "markdown",
   "metadata": {},
   "source": [
    "* ***Curso completo*** : \n",
    "[\"HOLA MUNDO\"](https://youtu.be/QoC4RxNIs5M?t=4)\n",
    "\n",
    " \n",
    "* ***Documentación oficial:***    [JavaScript](https://developer.mozilla.org/es/docs/Web/JavaScript/Guide/Introduction)\n",
    "\n",
    "* [Teoría](https://www.w3schools.com/js/default.asp)"
   ]
  }
 ],
 "metadata": {
  "language_info": {
   "name": "python"
  }
 },
 "nbformat": 4,
 "nbformat_minor": 2
}
